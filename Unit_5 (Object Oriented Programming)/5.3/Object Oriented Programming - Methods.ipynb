{
 "cells": [
  {
   "cell_type": "markdown",
   "metadata": {},
   "source": [
    "# Object Oriented Programming - Methods\n"
   ]
  },
  {
   "cell_type": "code",
   "execution_count": 1,
   "metadata": {},
   "outputs": [],
   "source": [
    "class Yazılımcı():\n",
    "    \n",
    "    def __init__(self,isim,soyisim,numara,maaş,diller):\n",
    "        self.isim = isim\n",
    "        self.soyisim = soyisim\n",
    "        self.numara = numara    \n",
    "        self.maaş = maaş\n",
    "        self.diller = diller\n",
    "    "
   ]
  },
  {
   "cell_type": "code",
   "execution_count": 3,
   "metadata": {},
   "outputs": [],
   "source": [
    "yazılımcı1 =  Yazılımcı(\"İRŞAD\",\"KÜREŞ\",12345,100000,[\"Python\",\"C\",\"Java\"])\n"
   ]
  },
  {
   "cell_type": "code",
   "execution_count": 4,
   "metadata": {},
   "outputs": [],
   "source": [
    "yazılımcı2 = Yazılımcı(\"ALİ\",\"DEVLET\",23456,3500,[\"Matlab\",\"R\",\"SmallTalk\"])"
   ]
  },
  {
   "cell_type": "code",
   "execution_count": 5,
   "metadata": {},
   "outputs": [
    {
     "data": {
      "text/plain": [
       "['Python', 'C', 'Java']"
      ]
     },
     "execution_count": 5,
     "metadata": {},
     "output_type": "execute_result"
    }
   ],
   "source": [
    "yazılımcı1.diller"
   ]
  },
  {
   "cell_type": "code",
   "execution_count": 6,
   "metadata": {},
   "outputs": [
    {
     "data": {
      "text/plain": [
       "'DEVLET'"
      ]
     },
     "execution_count": 6,
     "metadata": {},
     "output_type": "execute_result"
    }
   ],
   "source": [
    "yazılımcı2.soyisim"
   ]
  },
  {
   "cell_type": "code",
   "execution_count": 7,
   "metadata": {},
   "outputs": [],
   "source": [
    "class Yazılımcı():\n",
    "    \n",
    "    def __init__(self,isim,soyisim,numara,maaş,diller):\n",
    "        self.isim = isim\n",
    "        self.soyisim = soyisim\n",
    "        self.numara = numara   \n",
    "        self.maaş = maaş\n",
    "        self.diller = diller\n",
    "    def bilgilerigöster(self):\n",
    "        print(\"\"\"\n",
    "        Çalışan Bilgisi:\n",
    "        \n",
    "        İsim :  {}\n",
    "        \n",
    "        Soyisim : {}\n",
    "        \n",
    "        Şirket Numarası: {}\n",
    "        \n",
    "        Maaş :  {}\n",
    "        \n",
    "        Diller: {}\n",
    "        \"\"\".format(self.isim,self.soyisim,self.numara,self.maaş,self.diller))\n",
    "     "
   ]
  },
  {
   "cell_type": "code",
   "execution_count": 8,
   "metadata": {},
   "outputs": [],
   "source": [
    "yazılımcı1 =  Yazılımcı(\"İRŞAD\",\"KÜREŞ\",12345,100000,[\"Python\",\"C\",\"Java\"])"
   ]
  },
  {
   "cell_type": "code",
   "execution_count": 9,
   "metadata": {},
   "outputs": [
    {
     "name": "stdout",
     "output_type": "stream",
     "text": [
      "\n",
      "        Çalışan Bilgisi:\n",
      "        \n",
      "        İsim :  İRŞAD\n",
      "        \n",
      "        Soyisim : KÜREŞ\n",
      "        \n",
      "        Şirket Numarası: 12345\n",
      "        \n",
      "        Maaş :  100000\n",
      "        \n",
      "        Diller: ['Python', 'C', 'Java']\n",
      "        \n"
     ]
    }
   ],
   "source": [
    "yazılımcı1.bilgilerigöster()"
   ]
  },
  {
   "cell_type": "code",
   "execution_count": 17,
   "metadata": {},
   "outputs": [],
   "source": [
    "class Yazılımcı():\n",
    "    \n",
    "    def __init__(self,isim,soyisim,numara,maaş,diller):\n",
    "        self.isim = isim\n",
    "        self.soyisim = soyisim\n",
    "        self.numara = numara    \n",
    "        self.maaş = maaş\n",
    "        self.diller = diller\n",
    "    def bilgilerigöster(self):\n",
    "        print(\"\"\"\n",
    "        Çalışan Bilgisi:\n",
    "        \n",
    "        İsim :  {}\n",
    "        \n",
    "        Soyisim : {}\n",
    "        \n",
    "        Şirket Numarası: {}\n",
    "        \n",
    "        Maaş :  {}\n",
    "        \n",
    "        Diller: {}\n",
    "        \"\"\".format(self.isim,self.soyisim,self.numara,self.maaş,self.diller))\n",
    "    def dil_ekle(self,yeni_dil):\n",
    "        print(\"Dil ekleniyor.\")\n",
    "        self.diller.append(yeni_dil)\n",
    "    def maas_yukselt(self,zam_miktarı):\n",
    "        print(\"Maaş yükseliyor...\")\n",
    "        \n",
    "        self.maaş += zam_miktarı"
   ]
  },
  {
   "cell_type": "code",
   "execution_count": 18,
   "metadata": {},
   "outputs": [],
   "source": [
    "yazılımcı1 =  Yazılımcı(\"İRŞAD\",\"KÜREŞ\",12345,100000,[\"Python\",\"C\",\"Java\"])"
   ]
  },
  {
   "cell_type": "code",
   "execution_count": 19,
   "metadata": {},
   "outputs": [
    {
     "name": "stdout",
     "output_type": "stream",
     "text": [
      "\n",
      "        Çalışan Bilgisi:\n",
      "        \n",
      "        İsim :  İRŞAD\n",
      "        \n",
      "        Soyisim : KÜREŞ\n",
      "        \n",
      "        Şirket Numarası: 12345\n",
      "        \n",
      "        Maaş :  100000\n",
      "        \n",
      "        Diller: ['Python', 'C', 'Java']\n",
      "        \n"
     ]
    }
   ],
   "source": [
    "yazılımcı1.bilgilerigöster()"
   ]
  },
  {
   "cell_type": "code",
   "execution_count": 20,
   "metadata": {},
   "outputs": [
    {
     "name": "stdout",
     "output_type": "stream",
     "text": [
      "Maaş yükseliyor...\n"
     ]
    }
   ],
   "source": [
    "yazılımcı1.maas_yukselt(500)"
   ]
  },
  {
   "cell_type": "code",
   "execution_count": 21,
   "metadata": {},
   "outputs": [
    {
     "name": "stdout",
     "output_type": "stream",
     "text": [
      "\n",
      "        Çalışan Bilgisi:\n",
      "        \n",
      "        İsim :  İRŞAD\n",
      "        \n",
      "        Soyisim : KÜREŞ\n",
      "        \n",
      "        Şirket Numarası: 12345\n",
      "        \n",
      "        Maaş :  100500\n",
      "        \n",
      "        Diller: ['Python', 'C', 'Java']\n",
      "        \n"
     ]
    }
   ],
   "source": [
    "yazılımcı1.bilgilerigöster()"
   ]
  },
  {
   "cell_type": "code",
   "execution_count": 22,
   "metadata": {},
   "outputs": [
    {
     "name": "stdout",
     "output_type": "stream",
     "text": [
      "Dil ekleniyor.\n"
     ]
    }
   ],
   "source": [
    "yazılımcı1.dil_ekle(\"Javascript\")"
   ]
  },
  {
   "cell_type": "code",
   "execution_count": 24,
   "metadata": {},
   "outputs": [
    {
     "name": "stdout",
     "output_type": "stream",
     "text": [
      "\n",
      "        Çalışan Bilgisi:\n",
      "        \n",
      "        İsim :  İRŞAD\n",
      "        \n",
      "        Soyisim : KÜREŞ\n",
      "        \n",
      "        Şirket Numarası: 12345\n",
      "        \n",
      "        Maaş :  100500\n",
      "        \n",
      "        Diller: ['Python', 'C', 'Java', 'Javascript']\n",
      "        \n"
     ]
    }
   ],
   "source": [
    "yazılımcı1.bilgilerigöster()"
   ]
  },
  {
   "cell_type": "markdown",
   "metadata": {
    "collapsed": true
   },
   "source": [
    "WELL DONE!!!"
   ]
  },
  {
   "cell_type": "code",
   "execution_count": null,
   "metadata": {},
   "outputs": [],
   "source": []
  }
 ],
 "metadata": {
  "kernelspec": {
   "display_name": "Python 3 (ipykernel)",
   "language": "python",
   "name": "python3"
  },
  "language_info": {
   "codemirror_mode": {
    "name": "ipython",
    "version": 3
   },
   "file_extension": ".py",
   "mimetype": "text/x-python",
   "name": "python",
   "nbconvert_exporter": "python",
   "pygments_lexer": "ipython3",
   "version": "3.9.13"
  }
 },
 "nbformat": 4,
 "nbformat_minor": 2
}
