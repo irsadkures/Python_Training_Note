{
 "cells": [
  {
   "cell_type": "markdown",
   "metadata": {},
   "source": [
    "# Writing Our Own Modules\n",
    "\n",
    "In this topic we will try to learn how to write our own modules. However, since we will create **Python files** in this lesson, I will try to explain the subject on our own computer. The steps we will take are as follows:\n",
    "                    \n",
    "                     1. We create any folder.\n",
    "                     2. Since our module and test Python file must be in the same directory, we must also include 2 Python                               files.we create under this folder.\n",
    "                     3. We create module1.py and test.py file.\n",
    "                     4. We write as many functions as we want in the module1.py file.\n",
    "                     5. Finally, we use this module1.py in the test.py file."
   ]
  },
  {
   "cell_type": "markdown",
   "metadata": {},
   "source": [
    "So what do we do to use a module we wrote from anywhere? For this, we need to put the **modul1.py** file we wrote under the **Python35/Lib** folder. Thus, we can use this module in every file just like the **math** module."
   ]
  },
  {
   "cell_type": "markdown",
   "metadata": {
    "collapsed": true
   },
   "source": [
    "WELL DONE !!!"
   ]
  },
  {
   "cell_type": "code",
   "execution_count": null,
   "metadata": {},
   "outputs": [],
   "source": []
  }
 ],
 "metadata": {
  "kernelspec": {
   "display_name": "Python 3 (ipykernel)",
   "language": "python",
   "name": "python3"
  },
  "language_info": {
   "codemirror_mode": {
    "name": "ipython",
    "version": 3
   },
   "file_extension": ".py",
   "mimetype": "text/x-python",
   "name": "python",
   "nbconvert_exporter": "python",
   "pygments_lexer": "ipython3",
   "version": "3.9.13"
  }
 },
 "nbformat": 4,
 "nbformat_minor": 2
}
