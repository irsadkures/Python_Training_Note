{
 "cells": [
  {
   "cell_type": "markdown",
   "id": "1bfd48af",
   "metadata": {},
   "source": [
    "Example 1     "
   ]
  },
  {
   "cell_type": "code",
   "execution_count": 2,
   "id": "6603fb0a",
   "metadata": {},
   "outputs": [
    {
     "name": "stdout",
     "output_type": "stream",
     "text": [
      "************************\n",
      "\n",
      "Sayı Tahmin Oyunu\n",
      "\n",
      "\n",
      "1 ile 1000 arasında sayıyı tahmin edin.\n",
      "\n",
      "************************\n",
      "Tahmininiz:600\n",
      "Bilgiler Sorgulanıyor...\n",
      "Daha yüksek bir sayı söyleyin....\n",
      "Tahmininiz:800\n",
      "Bilgiler Sorgulanıyor...\n",
      "Daha yüksek bir sayı söyleyin....\n",
      "Tahmininiz:900\n",
      "Bilgiler Sorgulanıyor...\n",
      "Daha yüksek bir sayı söyleyin....\n",
      "Tahmininiz:950\n",
      "Bilgiler Sorgulanıyor...\n",
      "Daha düşük bir sayı söyleyin....\n",
      "Tahmininiz:925\n",
      "Bilgiler Sorgulanıyor...\n",
      "Daha yüksek bir sayı söyleyin....\n",
      "Tahmininiz:930\n",
      "Bilgiler Sorgulanıyor...\n",
      "Daha yüksek bir sayı söyleyin....\n",
      "Tahmininiz:940\n",
      "Bilgiler Sorgulanıyor...\n",
      "Daha düşük bir sayı söyleyin....\n",
      "Tahmininiz:935\n",
      "Bilgiler Sorgulanıyor...\n",
      "Daha yüksek bir sayı söyleyin....\n",
      "Tahmininiz:937\n",
      "Bilgiler Sorgulanıyor...\n",
      "Daha yüksek bir sayı söyleyin....\n",
      "Tahmininiz:938\n",
      "Bilgiler Sorgulanıyor...\n",
      "Daha yüksek bir sayı söyleyin....\n",
      "Tahmin Hakkınız Bitti...\n",
      "Sayımız: 939\n"
     ]
    }
   ],
   "source": [
    "import random\n",
    "import time\n",
    "\n",
    "print(\"\"\"************************\n",
    "\n",
    "Sayı Tahmin Oyunu\n",
    "\n",
    "\n",
    "1 ile 1000 arasında sayıyı tahmin edin.\n",
    "\n",
    "************************\"\"\")\n",
    "\n",
    "rastgele_sayı = random.randint(1,1000)\n",
    "tahmin_hakkı = 10\n",
    "while True:\n",
    "\n",
    "    tahmin = int(input(\"Tahmininiz:\"))\n",
    "\n",
    "    if (tahmin < rastgele_sayı):\n",
    "        print(\"Bilgiler Sorgulanıyor...\")\n",
    "        time.sleep(1)\n",
    "\n",
    "        print(\"Daha yüksek bir sayı söyleyin....\")\n",
    "\n",
    "        tahmin_hakkı -= 1\n",
    "    elif (tahmin > rastgele_sayı):\n",
    "        print(\"Bilgiler Sorgulanıyor...\")\n",
    "        time.sleep(1)\n",
    "\n",
    "        print(\"Daha düşük bir sayı söyleyin....\")\n",
    "\n",
    "        tahmin_hakkı -= 1\n",
    "    else:\n",
    "        print(\"Bilgiler Sorgulanıyor....\")\n",
    "        time.sleep(1)\n",
    "        print(\"Tebrikler! Sayımız\",rastgele_sayı)\n",
    "        break\n",
    "    if (tahmin_hakkı == 0):\n",
    "        print(\"Tahmin Hakkınız Bitti...\")\n",
    "        print(\"Sayımız:\",rastgele_sayı)\n",
    "        break\n"
   ]
  },
  {
   "cell_type": "markdown",
   "id": "7c509566",
   "metadata": {},
   "source": [
    "#### WELL DONE!!!"
   ]
  },
  {
   "cell_type": "code",
   "execution_count": null,
   "id": "56615440",
   "metadata": {},
   "outputs": [],
   "source": []
  }
 ],
 "metadata": {
  "kernelspec": {
   "display_name": "Python 3 (ipykernel)",
   "language": "python",
   "name": "python3"
  },
  "language_info": {
   "codemirror_mode": {
    "name": "ipython",
    "version": 3
   },
   "file_extension": ".py",
   "mimetype": "text/x-python",
   "name": "python",
   "nbconvert_exporter": "python",
   "pygments_lexer": "ipython3",
   "version": "3.9.13"
  }
 },
 "nbformat": 4,
 "nbformat_minor": 5
}
