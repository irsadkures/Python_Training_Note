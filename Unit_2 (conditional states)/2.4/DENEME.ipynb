{
 "cells": [
  {
   "cell_type": "code",
   "execution_count": 1,
   "id": "b40a72f7",
   "metadata": {},
   "outputs": [
    {
     "name": "stdout",
     "output_type": "stream",
     "text": [
      "-------------------------------------------------\n",
      "Hesap Makinesi Programına Hoşgeldiniz \n",
      "İşlemler;\n",
      "\n",
      "1. Toplama İşlemi\n",
      "\n",
      "2. Çıkarma İşlemi\n",
      "\n",
      "3. Çarpma İşlemi\n",
      "\n",
      "4. Bölme İşlemi\n",
      "-----------------------------------------------------------\n",
      "\n",
      "Birinci Sayı:9\n",
      "İkinci Sayı:5\n",
      "İşlem Numarasını Giriniz:3\n",
      "9 ile 5 'nin çarpımı 45 dır.\n"
     ]
    }
   ],
   "source": [
    "print(\"\"\"-------------------------------------------------\n",
    "Hesap Makinesi Programına Hoşgeldiniz \n",
    "İşlemler;\n",
    "\n",
    "1. Toplama İşlemi\n",
    "\n",
    "2. Çıkarma İşlemi\n",
    "\n",
    "3. Çarpma İşlemi\n",
    "\n",
    "4. Bölme İşlemi\n",
    "-----------------------------------------------------------\n",
    "\"\"\")\n",
    "\n",
    "a = int(input(\"Birinci Sayı:\")) \n",
    "b = int(input(\"İkinci Sayı:\")) \n",
    "\n",
    "işlem =  input(\"İşlem Numarasını Giriniz:\")\n",
    "\n",
    "if (işlem == \"1\"): \n",
    "\n",
    "    print(\"{} ile {} 'nin toplamı {} dır.\".format(a,b,a+b))\n",
    "elif (işlem == \"2\"):\n",
    "\n",
    "    print(\"{} ile {} 'nin farkı {} dır.\".format(a, b, a - b))\n",
    "elif (işlem == \"3\"):\n",
    "\n",
    "    print(\"{} ile {} 'nin çarpımı {} dır.\".format(a, b, a * b))\n",
    "\n",
    "elif (işlem == \"4\"):\n",
    "\n",
    "    print(\"{} 'nın {} 'e bölümü {} dır.\".format(a, b, a / b))\n",
    "else:\n",
    "\n",
    "\n",
    "    print(\"Lütfen geçerli bir işlem giriniz...\")    "
   ]
  },
  {
   "cell_type": "code",
   "execution_count": null,
   "id": "83a20230",
   "metadata": {},
   "outputs": [],
   "source": [
    "print(\"**********\\nKullanıcı Girişi\\n**********\\n\")\n",
    "\n",
    "\n",
    "\n",
    "sys_kul_adı = \"İRŞAD\" \n",
    "\n",
    "sys_parola  = \"12345\" \n",
    "\n",
    "kullanıcı_adı = input(\"Kullanıcı Adını Giriniz:\") \n",
    "\n",
    "parola =  input(\"Parolanızı Giriniz:\")\n",
    "if (kullanıcı_adı != sys_kul_adı and parola == sys_parola):\n",
    "    print(\"Kullanıcı Adı Hatalı...\")\n",
    "elif (kullanıcı_adı == sys_kul_adı and parola != sys_parola):\n",
    "    print(\"Parola Hatalı...\")\n",
    "\n",
    "elif (kullanıcı_adı != sys_kul_adı and parola != sys_parola):\n",
    "    print(\"Kullanıcı Adı ve Parola Hatalı...\")\n",
    "\n",
    "else:\n",
    "    print(\"Başarıyla Giriş Yaptınız...\")\n"
   ]
  }
 ],
 "metadata": {
  "kernelspec": {
   "display_name": "Python 3 (ipykernel)",
   "language": "python",
   "name": "python3"
  },
  "language_info": {
   "codemirror_mode": {
    "name": "ipython",
    "version": 3
   },
   "file_extension": ".py",
   "mimetype": "text/x-python",
   "name": "python",
   "nbconvert_exporter": "python",
   "pygments_lexer": "ipython3",
   "version": "3.9.7"
  }
 },
 "nbformat": 4,
 "nbformat_minor": 5
}
