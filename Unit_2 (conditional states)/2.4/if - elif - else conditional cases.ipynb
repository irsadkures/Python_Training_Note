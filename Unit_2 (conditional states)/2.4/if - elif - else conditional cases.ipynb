{
 "cells": [
  {
   "cell_type": "markdown",
   "metadata": {},
   "source": [
    "# Conditional Conditions - if - elif - else conditional cases"
   ]
  },
  {
   "cell_type": "markdown",
   "metadata": {},
   "source": [
    "### if-elif-else blocks\n"
   ]
  },
  {
   "cell_type": "markdown",
   "metadata": {},
   "source": [
    "In our previous topic, we could only check a single condition with our conditional states. However, in programming, a situation may depend on many conditions. For example, when we write a calculator program, we can determine our conditions according to the transactions entered by the user. We use if-elif-else patterns for such cases. Its usage is as follows;\n",
    "\n",
    "               if koşul: \n",
    "                   Yapılacak İşlemler\n",
    "               elif başka bir koşul:\n",
    "                   Yapılacak İşlemler\n",
    "               elif başka bir koşul:\n",
    "                   Yapılacak İşlemler\n",
    "                   \n",
    "                    //\n",
    "                    //\n",
    "               else:\n",
    "                   Yapılacak İşlemler \n",
    "In our programs, we can create as many elif blocks as we have how many conditions. Also, it is not mandatory to write **else**. In if - elif - else patterns, whatever condition is met, the program executes that block and if-elif-blocks expire.\n",
    "\n",
    "\n",
    "                   \n",
    "                  "
   ]
  },
  {
   "cell_type": "code",
   "execution_count": 1,
   "metadata": {},
   "outputs": [
    {
     "name": "stdout",
     "output_type": "stream",
     "text": [
      "İşlem seçiniz:1\n",
      "1. işlem seçildi.\n"
     ]
    }
   ],
   "source": [
    "işlem =  int(input(\"İşlem seçiniz:\")) \n",
    "\n",
    "if işlem == 1:\n",
    "    print(\"1. işlem seçildi.\")\n",
    "elif işlem == 2:\n",
    "    print(\"2. işlem seçildi.\")\n",
    "elif işlem == 3:\n",
    "    print(\"3. işlem seçildi.\")\n",
    "else:\n",
    "    print(\"Geçersiz İşlem!\")\n"
   ]
  },
  {
   "cell_type": "code",
   "execution_count": 3,
   "metadata": {},
   "outputs": [
    {
     "name": "stdout",
     "output_type": "stream",
     "text": [
      "İşlem seçiniz:11\n"
     ]
    }
   ],
   "source": [
    "işlem =  int(input(\"İşlem seçiniz:\")) \n",
    "\n",
    "if işlem == 1:\n",
    "    print(\"1. işlem seçildi.\")\n",
    "elif işlem == 2:\n",
    "    print(\"2. işlem seçildi.\")\n",
    "elif işlem == 3:\n",
    "    print(\"3. işlem seçildi.\")\n",
    "else:\n",
    "    print(\"Geçersiz İşlem!\")"
   ]
  },
  {
   "cell_type": "code",
   "execution_count": 2,
   "metadata": {},
   "outputs": [
    {
     "name": "stdout",
     "output_type": "stream",
     "text": [
      "İşlem seçiniz:11\n",
      "Geçersiz İşlem!\n"
     ]
    }
   ],
   "source": [
    "işlem =  int(input(\"İşlem seçiniz:\")) \n",
    "\n",
    "if işlem == 1:\n",
    "    print(\"1. işlem seçildi.\")\n",
    "elif işlem == 2:\n",
    "    print(\"2. işlem seçildi.\")\n",
    "elif işlem == 3:\n",
    "    print(\"3. işlem seçildi.\")\n",
    "else:\n",
    "    print(\"Geçersiz İşlem!\")"
   ]
  },
  {
   "cell_type": "markdown",
   "metadata": {},
   "source": [
    "There is no need to use the **else** pattern in programs. In the code here, we just put an optional **else** block for other cases. Our code will be able to work without the **else** block. However, in this case, if an incorrect operation is entered, we will see that nothing is written on the screen. So, using the **else** block is entirely up to you."
   ]
  },
  {
   "cell_type": "code",
   "execution_count": 1,
   "metadata": {},
   "outputs": [
    {
     "name": "stdout",
     "output_type": "stream",
     "text": [
      "İşlem seçiniz:4\n"
     ]
    }
   ],
   "source": [
    "işlem =  int(input(\"İşlem seçiniz:\")) \n",
    "\n",
    "if işlem == 1:\n",
    "    print(\"1. işlem seçildi.\")\n",
    "elif işlem == 2:\n",
    "    print(\"2. işlem seçildi.\")\n",
    "elif işlem == 3:\n",
    "    print(\"3. işlem seçildi.\")"
   ]
  },
  {
   "cell_type": "code",
   "execution_count": 2,
   "metadata": {},
   "outputs": [
    {
     "ename": "SyntaxError",
     "evalue": "invalid syntax (Temp/ipykernel_9072/336238442.py, line 3)",
     "output_type": "error",
     "traceback": [
      "\u001b[1;36m  File \u001b[1;32m\"C:\\Users\\AILIX\\AppData\\Local\\Temp/ipykernel_9072/336238442.py\"\u001b[1;36m, line \u001b[1;32m3\u001b[0m\n\u001b[1;33m    elif işlem == 2:\u001b[0m\n\u001b[1;37m    ^\u001b[0m\n\u001b[1;31mSyntaxError\u001b[0m\u001b[1;31m:\u001b[0m invalid syntax\n"
     ]
    }
   ],
   "source": [
    "işlem =  int(input(\"İşlem seçiniz:\")) # 3 tane işlemimiz olsun.\n",
    "\n",
    "elif işlem == 2:\n",
    "    print(\"2. işlem seçildi.\")\n",
    "elif işlem == 3:\n",
    "    print(\"3. işlem seçildi.\")\n",
    "else:\n",
    "    print(\"Geçersiz İşlem!\")"
   ]
  },
  {
   "cell_type": "markdown",
   "metadata": {
    "collapsed": true
   },
   "source": [
    "### if-if-if  Blocks"
   ]
  },
  {
   "cell_type": "code",
   "execution_count": 5,
   "metadata": {},
   "outputs": [
    {
     "name": "stdout",
     "output_type": "stream",
     "text": [
      "Notunuzu giriniz:88\n",
      "BA\n"
     ]
    }
   ],
   "source": [
    "note = float(input(\"Notunuzu giriniz:\"))\n",
    "\n",
    "if note >= 90:\n",
    "    print(\"AA\")\n",
    "elif note >= 85:\n",
    "    print(\"BA\")\n",
    "elif note >= 90:\n",
    "    print(\"BA\")\n",
    "elif note >= 80:\n",
    "    print(\"BB\")\n",
    "elif note >= 75:\n",
    "    print(\"CB\")\n",
    "elif note >= 70:\n",
    "    print(\"CC\")\n",
    "elif note >= 65:\n",
    "    print(\"DC\")\n",
    "elif note >= 60:\n",
    "    print(\"DD\")\n",
    "else:\n",
    "    print(\"Dersten Kaldınız\")\n"
   ]
  },
  {
   "cell_type": "code",
   "execution_count": 1,
   "metadata": {},
   "outputs": [
    {
     "name": "stdout",
     "output_type": "stream",
     "text": [
      "Notunuzu giriniz:93\n",
      "AA\n",
      "BA\n",
      "BA\n",
      "BB\n",
      "CB\n",
      "CC\n",
      "DC\n",
      "DD\n"
     ]
    }
   ],
   "source": [
    "note = float(input(\"Notunuzu giriniz:\"))\n",
    "\n",
    "if note >= 90:\n",
    "    print(\"AA\")\n",
    "if note >= 85:\n",
    "    print(\"BA\")\n",
    "if note >= 90:\n",
    "    print(\"BA\")\n",
    "if note >= 80:\n",
    "    print(\"BB\")\n",
    "if note >= 75:\n",
    "    print(\"CB\")\n",
    "if note >= 70:\n",
    "    print(\"CC\")\n",
    "if note >= 65:\n",
    "    print(\"DC\")\n",
    "if note >= 60:\n",
    "    print(\"DD\")\n",
    "else:\n",
    "    print(\"Dersten Kaldınız\")"
   ]
  },
  {
   "cell_type": "code",
   "execution_count": 2,
   "metadata": {},
   "outputs": [
    {
     "name": "stdout",
     "output_type": "stream",
     "text": [
      "Notunuzu giriniz:80\n",
      "BB\n",
      "CB\n",
      "CC\n",
      "DC\n",
      "DD\n"
     ]
    }
   ],
   "source": [
    "note = float(input(\"Notunuzu giriniz:\"))\n",
    "\n",
    "if note >= 90:\n",
    "    print(\"AA\")\n",
    "if note >= 85:\n",
    "    print(\"BA\")\n",
    "if note >= 90:\n",
    "    print(\"BA\")\n",
    "if note >= 80:\n",
    "    print(\"BB\")\n",
    "if note >= 75:\n",
    "    print(\"CB\")\n",
    "if note >= 70:\n",
    "    print(\"CC\")\n",
    "if note >= 65:\n",
    "    print(\"DC\")\n",
    "if note >= 60:\n",
    "    print(\"DD\")\n",
    "else:\n",
    "    print(\"Dersten Kaldınız\")"
   ]
  },
  {
   "cell_type": "markdown",
   "metadata": {},
   "source": [
    "As we see here, our program ran unexpectedly. Because in Python, programs **always** check all **if** blocks and execute those blocks if the conditions are true. This is why we use **elif** in programs such as note calculation.\n"
   ]
  },
  {
   "cell_type": "markdown",
   "metadata": {
    "collapsed": true
   },
   "source": [
    "WELL DONE !!!"
   ]
  },
  {
   "cell_type": "code",
   "execution_count": null,
   "metadata": {},
   "outputs": [],
   "source": []
  }
 ],
 "metadata": {
  "kernelspec": {
   "display_name": "Python 3 (ipykernel)",
   "language": "python",
   "name": "python3"
  },
  "language_info": {
   "codemirror_mode": {
    "name": "ipython",
    "version": 3
   },
   "file_extension": ".py",
   "mimetype": "text/x-python",
   "name": "python",
   "nbconvert_exporter": "python",
   "pygments_lexer": "ipython3",
   "version": "3.9.7"
  }
 },
 "nbformat": 4,
 "nbformat_minor": 2
}
