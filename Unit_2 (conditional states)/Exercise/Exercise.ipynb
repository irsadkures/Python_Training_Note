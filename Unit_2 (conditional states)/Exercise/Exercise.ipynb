{
 "cells": [
  {
   "cell_type": "markdown",
   "id": "1bfd48af",
   "metadata": {},
   "source": [
    "Example 1     "
   ]
  },
  {
   "cell_type": "code",
   "execution_count": 1,
   "id": "d8ad6c64",
   "metadata": {},
   "outputs": [
    {
     "name": "stdout",
     "output_type": "stream",
     "text": [
      "-------------------------------------------------\n",
      "Hesap Makinesi Programına Hoşgeldiniz \n",
      "İşlemler;\n",
      "\n",
      "1. Toplama İşlemi\n",
      "\n",
      "2. Çıkarma İşlemi\n",
      "\n",
      "3. Çarpma İşlemi\n",
      "\n",
      "4. Bölme İşlemi\n",
      "-----------------------------------------------------------\n",
      "\n",
      "Birinci Sayı:3\n",
      "İkinci Sayı:4\n",
      "İşlem Numarasını Giriniz:5\n",
      "Lütfen geçerli bir işlem giriniz...\n"
     ]
    }
   ],
   "source": [
    "print(\"\"\"-------------------------------------------------\n",
    "Hesap Makinesi Programına Hoşgeldiniz \n",
    "İşlemler;\n",
    "\n",
    "1. Toplama İşlemi\n",
    "\n",
    "2. Çıkarma İşlemi\n",
    "\n",
    "3. Çarpma İşlemi\n",
    "\n",
    "4. Bölme İşlemi\n",
    "-----------------------------------------------------------\n",
    "\"\"\")\n",
    "a = int(input(\"Birinci Sayı:\")) \n",
    "b = int(input(\"İkinci Sayı:\")) \n",
    "\n",
    "işlem =  input(\"İşlem Numarasını Giriniz:\")\n",
    "if (işlem == \"1\"): \n",
    "\n",
    "    print(\"{} ile {} 'nin toplamı {} dır.\".format(a,b,a+b))\n",
    "elif (işlem == \"2\"):\n",
    "\n",
    "    print(\"{} ile {} 'nin farkı {} dır.\".format(a, b, a - b))\n",
    "\n",
    "elif (işlem == \"3\"):\n",
    "\n",
    "    print(\"{} ile {} 'nin çarpımı {} dır.\".format(a, b, a * b))\n",
    "\n",
    "elif (işlem == \"4\"):\n",
    "\n",
    "    print(\"{} 'nın {} 'e bölümü {} dır.\".format(a, b, a / b))\n",
    "else:\n",
    "\n",
    "\n",
    "    print(\"Lütfen geçerli bir işlem giriniz...\")"
   ]
  },
  {
   "cell_type": "markdown",
   "id": "cdd83fec",
   "metadata": {},
   "source": [
    "Example 2 "
   ]
  },
  {
   "cell_type": "code",
   "execution_count": 2,
   "id": "c53acdb9",
   "metadata": {},
   "outputs": [
    {
     "name": "stdout",
     "output_type": "stream",
     "text": [
      "**********\n",
      "Kullanıcı Girişi\n",
      "**********\n",
      "\n",
      "Kullanıcı Adını Giriniz:İRŞAD\n",
      "Parolanızı Giriniz:432\n",
      "Parola Hatalı...\n"
     ]
    }
   ],
   "source": [
    "print(\"**********\\nKullanıcı Girişi\\n**********\\n\")\n",
    "\n",
    "\n",
    "\n",
    "sys_kul_adı = \"İRŞAD\" \n",
    "\n",
    "sys_parola  = \"12345\" \n",
    "\n",
    "kullanıcı_adı = input(\"Kullanıcı Adını Giriniz:\") \n",
    "\n",
    "parola =  input(\"Parolanızı Giriniz:\")\n",
    "\n",
    "if (kullanıcı_adı != sys_kul_adı and parola == sys_parola):\n",
    "    print(\"Kullanıcı Adı Hatalı...\")\n",
    "elif (kullanıcı_adı == sys_kul_adı and parola != sys_parola):\n",
    "    print(\"Parola Hatalı...\")\n",
    "\n",
    "elif (kullanıcı_adı != sys_kul_adı and parola != sys_parola):\n",
    "    print(\"Kullanıcı Adı ve Parola Hatalı...\")\n",
    "\n",
    "else:\n",
    "    print(\"Başarıyla Giriş Yaptınız...\")\n",
    "\n"
   ]
  },
  {
   "cell_type": "raw",
   "id": "20234ce0",
   "metadata": {},
   "source": [
    "Example 3     "
   ]
  },
  {
   "cell_type": "code",
   "execution_count": 3,
   "id": "37022566",
   "metadata": {},
   "outputs": [
    {
     "name": "stdout",
     "output_type": "stream",
     "text": [
      "Boyunuzu Giriniz:170\n",
      "Kilonuzu Giriniz:74\n",
      "Zayıf\n"
     ]
    }
   ],
   "source": [
    "boy = float(input(\"Boyunuzu Giriniz:\"))\n",
    "kilo = int(input(\"Kilonuzu Giriniz:\"))\n",
    "\n",
    "bki =  kilo / (boy ** 2)\n",
    "\n",
    "if (bki < 18.5):\n",
    "    print(\"Zayıf\")\n",
    "elif (bki >= 18.5 and bki < 25):\n",
    "    print(\"Normal\")\n",
    "elif (bki >= 25 and bki < 30):\n",
    "    print(\"Fazla Kilolu\")\n",
    "else:\n",
    "    print(\"Obez\")"
   ]
  },
  {
   "cell_type": "markdown",
   "id": "b92a8c8a",
   "metadata": {},
   "source": [
    "Example 4"
   ]
  },
  {
   "cell_type": "code",
   "execution_count": 4,
   "id": "0e80dcce",
   "metadata": {},
   "outputs": [
    {
     "name": "stdout",
     "output_type": "stream",
     "text": [
      "a:7\n",
      "b:5\n",
      "c:3\n",
      "En büyük sayı: 7\n"
     ]
    }
   ],
   "source": [
    "a =  int(input(\"a:\"))\n",
    "\n",
    "b = int(input(\"b:\"))\n",
    "\n",
    "c = int(input(\"c:\"))\n",
    "\n",
    "if (a >= b and a >= c):\n",
    "    print(\"En büyük sayı:\",a)\n",
    "elif (b >= a and b >= c):\n",
    "    print(\"En büyük sayı:\",b)\n",
    "elif (c >= a and c >= b):\n",
    "    print(\"En büyük sayı:\",c)"
   ]
  },
  {
   "cell_type": "markdown",
   "id": "02d882ca",
   "metadata": {},
   "source": [
    "Example 5"
   ]
  },
  {
   "cell_type": "code",
   "execution_count": 5,
   "id": "8bd17541",
   "metadata": {},
   "outputs": [
    {
     "name": "stdout",
     "output_type": "stream",
     "text": [
      "Vize1:865\n",
      "Vize2:654\n",
      "Final:654\n",
      "AA\n"
     ]
    }
   ],
   "source": [
    "vize1 = int(input(\"Vize1:\"))\n",
    "vize2 = int(input(\"Vize2:\"))\n",
    "final = int(input(\"Final:\"))\n",
    "\n",
    "\n",
    "genel_not =  vize1 * 3/10 + vize2 * 3/10 + final * 4/10\n",
    "\n",
    "if (genel_not >= 90):\n",
    "    print(\"AA\")\n",
    "elif (genel_not >= 85):\n",
    "    print(\"BA\")\n",
    "elif (genel_not >= 80):\n",
    "    print(\"BB\")\n",
    "elif (genel_not >= 75):\n",
    "    print(\"CB\")\n",
    "elif (genel_not >= 70):\n",
    "    print(\"CC\")\n",
    "elif (genel_not >= 65):\n",
    "    print(\"DC\")\n",
    "elif (genel_not >= 60):\n",
    "    print(\"DD\")\n",
    "elif (genel_not >= 55):\n",
    "    print(\"FD\")\n",
    "else:\n",
    "    print(\"FF\")\n",
    "    "
   ]
  },
  {
   "cell_type": "markdown",
   "id": "c312e757",
   "metadata": {},
   "source": [
    "Example 6"
   ]
  },
  {
   "cell_type": "code",
   "execution_count": 6,
   "id": "014ab05d",
   "metadata": {},
   "outputs": [
    {
     "name": "stdout",
     "output_type": "stream",
     "text": [
      "Hangi şeklin tipini öğrenmek istiyorsunuz?GFDG\n",
      "Geçersiz Şekil...\n"
     ]
    }
   ],
   "source": [
    "şekil =  input(\"Hangi şeklin tipini öğrenmek istiyorsunuz?\")\n",
    "\n",
    "if (şekil == \"Dörtgen\"):\n",
    "    print(\"Lütfen kenarları sırayla giriniz.\")\n",
    "    a = int(input(\"Kenar-1:\"))\n",
    "    b = int(input(\"Kenar-2:\"))\n",
    "    c = int(input(\"Kenar-3:\"))\n",
    "    d = int(input(\"Kenar-4:\"))\n",
    "    \n",
    "    if (a == b and a == c and a == d):\n",
    "        print(\"Kare\")\n",
    "    elif (a == c and b == d):\n",
    "        print(\"Dikdörtgen\")\n",
    "    else:\n",
    "        print(\"Dörtgen\")\n",
    "        \n",
    "    \n",
    "    \n",
    "elif (şekil == \"Üçgen\"):\n",
    "    a = int(input(\"Kenar-1:\"))\n",
    "    b = int(input(\"Kenar-2:\"))\n",
    "    c = int(input(\"Kenar-3:\"))\n",
    "    if ( abs(a+b) > c and abs(a+c) > b and abs(b+c) > a):\n",
    "        if (a == b and a == c ):\n",
    "            print(\"Eşkenar Üçgen...\")\n",
    "        elif ((a == b and a != c) or (a == c and a != b) or (b == c and b != a)):\n",
    "            print(\"İkizkenar Üçgen....\")\n",
    "        else:\n",
    "            print(\"Çeşitkenar Üçgen...\")\n",
    "    else:\n",
    "        print(\"Üçgen belirtmiyor...\")\n",
    "        \n",
    "else:\n",
    "    print(\"Geçersiz Şekil...\")"
   ]
  },
  {
   "cell_type": "markdown",
   "id": "a585a886",
   "metadata": {},
   "source": [
    "WELL DONE !!!"
   ]
  },
  {
   "cell_type": "code",
   "execution_count": null,
   "id": "1bb36816",
   "metadata": {},
   "outputs": [],
   "source": []
  }
 ],
 "metadata": {
  "kernelspec": {
   "display_name": "Python 3 (ipykernel)",
   "language": "python",
   "name": "python3"
  },
  "language_info": {
   "codemirror_mode": {
    "name": "ipython",
    "version": 3
   },
   "file_extension": ".py",
   "mimetype": "text/x-python",
   "name": "python",
   "nbconvert_exporter": "python",
   "pygments_lexer": "ipython3",
   "version": "3.9.7"
  }
 },
 "nbformat": 4,
 "nbformat_minor": 5
}
