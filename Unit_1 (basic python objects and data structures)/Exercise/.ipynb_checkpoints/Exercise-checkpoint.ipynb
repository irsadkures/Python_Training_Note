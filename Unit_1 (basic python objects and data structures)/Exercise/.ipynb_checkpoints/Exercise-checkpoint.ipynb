{
 "cells": [
  {
   "cell_type": "markdown",
   "id": "1bfd48af",
   "metadata": {},
   "source": [
    "Example 1     "
   ]
  },
  {
   "cell_type": "code",
   "execution_count": 1,
   "id": "d8ad6c64",
   "metadata": {},
   "outputs": [
    {
     "name": "stdout",
     "output_type": "stream",
     "text": [
      "Techdil akademisine hoş geldiniz !!!\n",
      "üye Adı:irşad\n",
      "üye Soyadı:küreş\n",
      "üyenın kayıt olduğu ders :python\n",
      "Bilgiler Kaydediliyor....\n",
      "üye Adı: irşad\n",
      "üye Soyadı: küreş\n",
      "üyenın kayıt olduğu ders: python\n",
      "\n",
      "Bilgiler Kaydedildi.....\n"
     ]
    }
   ],
   "source": [
    "print(\"Techdil akademisine hoş geldiniz !!!\")\n",
    "\n",
    "ad  = input(\"üye Adı:\")\n",
    "soyad =input(\"üye Soyadı:\")\n",
    "ders = input(\"üyenın kayıt olduğu ders :\")\n",
    "\n",
    "bilgiler = [ad,soyad,ders]\n",
    "\n",
    "print(\"Bilgiler Kaydediliyor....\")\n",
    "\n",
    "print(\"üye Adı: {}\\nüye Soyadı: {}\\nüyenın kayıt olduğu ders: {}\\n\".format(bilgiler[0],bilgiler[1],bilgiler[2]))\n",
    "\n",
    "\n",
    "print(\"Bilgiler Kaydedildi.....\")"
   ]
  },
  {
   "cell_type": "markdown",
   "id": "cdd83fec",
   "metadata": {},
   "source": [
    "Example 2 "
   ]
  },
  {
   "cell_type": "code",
   "execution_count": 7,
   "id": "c53acdb9",
   "metadata": {},
   "outputs": [
    {
     "name": "stdout",
     "output_type": "stream",
     "text": [
      "a:12\n",
      "b:13\n",
      "c:15\n",
      "Birinci Kök: (-0.5416666666666667-0.9780578828587919j)\n",
      "İkinci Kök: (-0.5416666666666666+0.9780578828587919j)\n",
      "\n"
     ]
    }
   ],
   "source": [
    "\"\"\"\n",
    "2. dereceden bir bilinmeyenli denklemin köklerini bulma\n",
    "\n",
    "Denklem : ax^2 + bx + c\n",
    "\n",
    "Deltayı Hesaplama:  b ** 2 -  4 * a * c\n",
    "\n",
    "Birinci Kök : (-b - delta ** 0.5) / (2*a)\n",
    "İkinci Kök : (-b + delta ** 0.5) / (2*a)\n",
    "\n",
    "\"\"\"\n",
    "\n",
    "a = int(input(\"a:\"))\n",
    "b = int(input(\"b:\"))\n",
    "c = int(input(\"c:\"))\n",
    "\n",
    "delta = b ** 2 - 4 * a *c\n",
    "\n",
    "x1 = (-b - delta ** 0.5 ) / (2 * a)\n",
    "x2 = (-b + delta ** 0.5 ) / (2 * a)\n",
    "\n",
    "print(\"Birinci Kök: {}\\nİkinci Kök: {}\\n\".format(x1,x2))\n",
    "\n"
   ]
  },
  {
   "cell_type": "markdown",
   "id": "e7e7a8e4",
   "metadata": {},
   "source": [
    "Example 3     "
   ]
  },
  {
   "cell_type": "code",
   "execution_count": 3,
   "id": "37022566",
   "metadata": {},
   "outputs": [
    {
     "name": "stdout",
     "output_type": "stream",
     "text": [
      "a:5\n",
      "b:5\n",
      "c:5\n",
      "5 x 5 x 5 = 125 dir\n"
     ]
    }
   ],
   "source": [
    "a = int(input(\"a:\"))\n",
    "b = int(input(\"b:\"))\n",
    "c = int(input(\"c:\"))\n",
    "\n",
    "çarpım = a * b * c\n",
    "\n",
    "print(\"{} x {} x {} = {} dir\".format(a,b,c,çarpım))"
   ]
  },
  {
   "cell_type": "markdown",
   "id": "b92a8c8a",
   "metadata": {},
   "source": [
    "Example 4"
   ]
  },
  {
   "cell_type": "code",
   "execution_count": 8,
   "id": "0e80dcce",
   "metadata": {},
   "outputs": [
    {
     "name": "stdout",
     "output_type": "stream",
     "text": [
      "Boy:170\n",
      "Kilo:76\n",
      "Beden Kitle İndeksi: 0.002629757785467128\n"
     ]
    }
   ],
   "source": [
    "boy = float(input(\"Boy:\"))\n",
    "kilo = int(input(\"Kilo:\"))\n",
    "\n",
    "print(\"Beden Kitle İndeksi:\",kilo / (boy ** 2))"
   ]
  },
  {
   "cell_type": "markdown",
   "id": "02d882ca",
   "metadata": {},
   "source": [
    "Example 5"
   ]
  },
  {
   "cell_type": "code",
   "execution_count": 9,
   "id": "8bd17541",
   "metadata": {},
   "outputs": [
    {
     "name": "stdout",
     "output_type": "stream",
     "text": [
      "Kilometrede yakan miktar:2\n",
      "Kaç km yol yaptınız:100\n",
      "Tutar: 200.0 tl\n"
     ]
    }
   ],
   "source": [
    "yakan_miktar = float(input(\"Kilometrede yakan miktar:\"))\n",
    "\n",
    "kilometre = int(input(\"Kaç km yol yaptınız:\"))\n",
    "\n",
    "print(\"Tutar: {} tl\".format(yakan_miktar * kilometre))"
   ]
  },
  {
   "cell_type": "markdown",
   "id": "c312e757",
   "metadata": {},
   "source": [
    "Example 6"
   ]
  },
  {
   "cell_type": "code",
   "execution_count": 10,
   "id": "014ab05d",
   "metadata": {},
   "outputs": [
    {
     "name": "stdout",
     "output_type": "stream",
     "text": [
      "a:4\n",
      "b:6\n",
      "Değiştirilmeden Önce Değerler\n",
      "a: 4 b: 6\n",
      "\n",
      "Değiştirildikten Sonraki Değerler\n",
      "a: 6 b: 4\n",
      "\n"
     ]
    }
   ],
   "source": [
    "a = input(\"a:\")\n",
    "b = input(\"b:\")\n",
    "\n",
    "print(\"Değiştirilmeden Önce Değerler\\na: {} b: {}\\n\".format(a,b))\n",
    "\n",
    "a,b = b,a\n",
    "\n",
    "print(\"Değiştirildikten Sonraki Değerler\\na: {} b: {}\\n\".format(a,b))"
   ]
  },
  {
   "cell_type": "markdown",
   "id": "a585a886",
   "metadata": {},
   "source": [
    "WELL DONE !!!"
   ]
  },
  {
   "cell_type": "code",
   "execution_count": null,
   "id": "1bb36816",
   "metadata": {},
   "outputs": [],
   "source": []
  }
 ],
 "metadata": {
  "kernelspec": {
   "display_name": "Python 3 (ipykernel)",
   "language": "python",
   "name": "python3"
  },
  "language_info": {
   "codemirror_mode": {
    "name": "ipython",
    "version": 3
   },
   "file_extension": ".py",
   "mimetype": "text/x-python",
   "name": "python",
   "nbconvert_exporter": "python",
   "pygments_lexer": "ipython3",
   "version": "3.9.7"
  }
 },
 "nbformat": 4,
 "nbformat_minor": 5
}
